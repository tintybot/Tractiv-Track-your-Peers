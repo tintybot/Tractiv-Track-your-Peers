{
 "cells": [
  {
   "cell_type": "code",
   "execution_count": 1,
   "metadata": {},
   "outputs": [
    {
     "name": "stderr",
     "output_type": "stream",
     "text": [
      "C:\\Users\\KIIT\\Anaconda3\\lib\\site-packages\\sklearn\\utils\\deprecation.py:144: FutureWarning: The sklearn.datasets.samples_generator module is  deprecated in version 0.22 and will be removed in version 0.24. The corresponding classes / functions should instead be imported from sklearn.datasets. Anything that cannot be imported from sklearn.datasets is now part of the private API.\n",
      "  warnings.warn(message, FutureWarning)\n",
      "C:\\Users\\KIIT\\Anaconda3\\lib\\site-packages\\statsmodels\\tools\\_testing.py:19: FutureWarning: pandas.util.testing is deprecated. Use the functions in the public API at pandas.testing instead.\n",
      "  import pandas.util.testing as tm\n"
     ]
    }
   ],
   "source": [
    "import pickle\n",
    "import numpy as np\n",
    "from sklearn.datasets.samples_generator import make_blobs\n",
    "from sklearn.model_selection import train_test_split\n",
    "from matplotlib import pyplot as plt\n",
    "from sklearn.metrics import confusion_matrix\n",
    "from sklearn.svm import SVC\n",
    "import seaborn as sns\n",
    "import matplotlib.pyplot as plt\n",
    "import random"
   ]
  },
  {
   "cell_type": "code",
   "execution_count": 2,
   "metadata": {},
   "outputs": [],
   "source": [
    "def load_dataset(filename):\n",
    "    pickle_in=open(filename,\"rb\")\n",
    "    Dataset=pickle.load(pickle_in)\n",
    "    pickle_in.close()\n",
    "    return Dataset\n",
    "def data_labels(Dataset):\n",
    "    X=[]\n",
    "    Y=[]\n",
    "    for val,lab in Dataset:\n",
    "        X.append(val)\n",
    "        Y.append(lab)\n",
    "    X=np.array(X).reshape(-1,90)\n",
    "    Y=np.array(Y)\n",
    "    return X,Y"
   ]
  },
  {
   "cell_type": "code",
   "execution_count": 12,
   "metadata": {},
   "outputs": [],
   "source": [
    "def train(filename):\n",
    "    Dataset=load_dataset(filename)\n",
    "    random.shuffle(Dataset)\n",
    "    X,Y=data_labels(Dataset)\n",
    "    X_train,X_test,Y_train,Y_test=train_test_split(X,Y,test_size=0.25)\n",
    "    svm_model_linear = SVC(kernel = 'linear', C = 1).fit(X_train, Y_train) \n",
    "    svm_predictions = svm_model_linear.predict(X_test) \n",
    "    accuracy = svm_model_linear.score(X_test, Y_test) \n",
    "    print(accuracy)\n",
    "    cm = confusion_matrix(Y_test, svm_predictions) \n",
    "    sns.heatmap(cm, annot=True)\n",
    "    plt.show()\n",
    "    return svm_model_linear"
   ]
  },
  {
   "cell_type": "code",
   "execution_count": 13,
   "metadata": {},
   "outputs": [
    {
     "name": "stdout",
     "output_type": "stream",
     "text": [
      "0.9651162790697675\n"
     ]
    },
    {
     "data": {
      "image/png": "[encoded data removed]",
      "text/plain": [
       "<Figure size 432x288 with 2 Axes>"
      ]
     },
     "metadata": {
      "needs_background": "light"
     },
     "output_type": "display_data"
    },
    {
     "data": {
      "text/plain": [
       "['model.pkl']"
      ]
     },
     "execution_count": 13,
     "metadata": {},
     "output_type": "execute_result"
    }
   ],
   "source": [
    "import joblib\n",
    "model=train(\"Dataset.pickle\")\n",
    "joblib.dump(model,'model.pkl')\n",
    "    "
   ]
  },
  {
   "cell_type": "code",
   "execution_count": 7,
   "metadata": {},
   "outputs": [],
   "source": [
    "Dataset=load_dataset(\"Dataset.pickle\")\n",
    "random.shuffle(Dataset)\n",
    "X,Y=data_labels(Dataset)\n",
    "X_train,X_test,Y_train,Y_test=train_test_split(X,Y,test_size=0.25)\n",
    "\n"
   ]
  },
  {
   "cell_type": "code",
   "execution_count": null,
   "metadata": {},
   "outputs": [],
   "source": [
    "# random forest\n",
    "from sklearn.ensemble import RandomForestClassifier\n",
    "score=[]\n",
    "for i in range(10,200,10):\n",
    "    rf = RandomForestClassifier(n_estimators=i, random_state=39, max_depth=4)\n",
    "    rf.fit(X_train, Y_train)\n",
    "    pred = rf.predict(X_test)\n",
    "    accuracy = rf.score(X_test, Y_test)\n",
    "    #cm = confusion_matrix(Y_test, pred) \n",
    "    #sns.heatmap(cm, annot=True)\n",
    "    score.append(accuracy)\n",
    "    #break\n",
    "#plt.show()\n",
    "#plt.savefig('6.png')\n",
    "print(score)"
   ]
  },
  {
   "cell_type": "code",
   "execution_count": 21,
   "metadata": {},
   "outputs": [
    {
     "name": "stdout",
     "output_type": "stream",
     "text": [
      "[0.9922480620155039, 0.9922480620155039, 0.9922480620155039, 0.9922480620155039, 0.9922480620155039, 0.9922480620155039, 0.9922480620155039, 0.9922480620155039, 0.9922480620155039, 0.9922480620155039, 0.9922480620155039, 0.9922480620155039, 0.9922480620155039, 0.9922480620155039, 0.9922480620155039, 0.9922480620155039, 0.9922480620155039, 0.9922480620155039, 0.9922480620155039]\n"
     ]
    }
   ],
   "source": [
    "score2=[]\n",
    "for i in range(10,200,10):\n",
    "    svm_model_linear = SVC(kernel = 'linear', C = 1,cache_size=i).fit(X_train, Y_train) \n",
    "    svm_predictions = svm_model_linear.predict(X_test) \n",
    "    accuracy = svm_model_linear.score(X_test, Y_test)\n",
    "    score2.append(accuracy)\n",
    "    #cm = confusion_matrix(Y_test, svm_predictions) \n",
    "    #sns.heatmap(cm, annot=True)\n",
    "    #break\n",
    "#plt.show()\n",
    "#plt.savefig('7.png')\n",
    "print(score2)"
   ]
  },
  {
   "cell_type": "code",
   "execution_count": 27,
   "metadata": {},
   "outputs": [
    {
     "name": "stderr",
     "output_type": "stream",
     "text": [
      "C:\\Users\\KIIT\\Anaconda3\\lib\\site-packages\\sklearn\\linear_model\\_logistic.py:940: ConvergenceWarning: lbfgs failed to converge (status=1):\n",
      "STOP: TOTAL NO. of ITERATIONS REACHED LIMIT.\n",
      "\n",
      "Increase the number of iterations (max_iter) or scale the data as shown in:\n",
      "    https://scikit-learn.org/stable/modules/preprocessing.html\n",
      "Please also refer to the documentation for alternative solver options:\n",
      "    https://scikit-learn.org/stable/modules/linear_model.html#logistic-regression\n",
      "  extra_warning_msg=_LOGISTIC_SOLVER_CONVERGENCE_MSG)\n"
     ]
    },
    {
     "data": {
      "image/png": "[encoded data removed]",
      "text/plain": [
       "<Figure size 432x288 with 2 Axes>"
      ]
     },
     "metadata": {
      "needs_background": "light"
     },
     "output_type": "display_data"
    },
    {
     "name": "stdout",
     "output_type": "stream",
     "text": [
      "[0.9922480620155039]\n"
     ]
    },
    {
     "data": {
      "text/plain": [
       "<Figure size 432x288 with 0 Axes>"
      ]
     },
     "metadata": {},
     "output_type": "display_data"
    }
   ],
   "source": [
    "from sklearn.linear_model import LogisticRegression\n",
    "score3=[]\n",
    "for i in range(120,200,10):\n",
    "    lr = LogisticRegression(C=1.0,max_iter=i).fit(X_train, Y_train) \n",
    "    predictions = lr.predict(X_test) \n",
    "    accuracy = lr.score(X_test, Y_test)\n",
    "    score3.append(accuracy)\n",
    "    cm = confusion_matrix(Y_test, predictions) \n",
    "    sns.heatmap(cm, annot=True)\n",
    "    break\n",
    "\n",
    "plt.show()\n",
    "plt.savefig('8.png')\n",
    "print(score3)"
   ]
  },
  {
   "cell_type": "code",
   "execution_count": 23,
   "metadata": {},
   "outputs": [],
   "source": [
    "x=[]\n",
    "for i in range(10,200,10):\n",
    "    x.append(i)"
   ]
  },
  {
   "cell_type": "code",
   "execution_count": 24,
   "metadata": {},
   "outputs": [
    {
     "data": {
      "image/png": "[encoded data removed]",
      "text/plain": [
       "<Figure size 432x288 with 1 Axes>"
      ]
     },
     "metadata": {
      "needs_background": "light"
     },
     "output_type": "display_data"
    }
   ],
   "source": [
    "plt.plot(x, score, label = \"n_estimators vs Random forest\")\n",
    "plt.plot(x, score2, label = \"Cache_size vs SVC\")\n",
    "plt.plot(x, score3, label = \"max_iter vs Logistic regression\")\n",
    "plt.xlabel(\"n_estimators/case_size/max_iter\")\n",
    "plt.ylabel(\"accuracy\")\n",
    "plt.title(\"Hyperparameter Tuning\")\n",
    "plt.legend()\n",
    "plt.savefig('5.png')"
   ]
  },
  {
   "cell_type": "code",
   "execution_count": 25,
   "metadata": {},
   "outputs": [
    {
     "data": {
      "text/plain": [
       "0.9922480620155039"
      ]
     },
     "execution_count": 25,
     "metadata": {},
     "output_type": "execute_result"
    }
   ],
   "source": [
    "max(score3)"
   ]
  },
  {
   "cell_type": "code",
   "execution_count": 15,
   "metadata": {},
   "outputs": [],
   "source": [
    "from sklearn.metrics import roc_curve"
   ]
  },
  {
   "cell_type": "code",
   "execution_count": 14,
   "metadata": {},
   "outputs": [],
   "source": [
    "X=joblib.load('model.pkl')"
   ]
  },
  {
   "cell_type": "code",
   "execution_count": 15,
   "metadata": {},
   "outputs": [
    {
     "data": {
      "text/plain": [
       "array([2, 1, 1, 1, 3, 1, 3, 0, 2, 3, 0, 1, 0, 2, 1, 1, 2, 1, 0, 1, 1, 0,\n",
       "       2, 0, 1, 2, 1, 1, 0, 1, 2, 1, 2, 1, 1, 2, 0, 2, 1, 2, 2, 1, 0, 0,\n",
       "       1, 1, 1, 2, 2, 0, 2, 0, 2, 1, 2, 0, 1, 1, 0, 1, 0, 0, 1, 2, 3, 2,\n",
       "       2, 0, 2, 1, 0, 0, 2, 2, 1, 2, 0, 1, 2, 2, 1, 0, 0, 0, 0, 2, 0, 1,\n",
       "       1, 2, 0, 0, 2, 1, 1, 1, 2, 1, 0, 2, 0, 2, 3, 1, 0, 2, 0, 1, 1, 0,\n",
       "       1, 0, 1, 0, 0, 0, 1, 1, 2, 1, 2, 2, 0, 0, 2, 0, 2, 0, 1, 2, 1, 1,\n",
       "       2, 1, 1, 2, 3, 1, 0, 0, 2, 1, 1, 0, 0, 2, 0, 1, 2, 1, 2, 2, 0, 1,\n",
       "       2, 0, 2, 1, 0, 0, 0, 1, 1, 2, 1, 0, 0, 0, 2, 0, 0, 0, 0, 0, 2, 2,\n",
       "       2, 2, 1, 2, 2, 0, 0, 1, 2, 1, 0, 1, 2, 1, 1, 2, 2, 1, 2, 0, 1, 2,\n",
       "       2, 2, 0, 0, 1, 0, 2, 1, 1, 3, 1, 2, 1, 1, 2, 2, 2, 0, 0, 1, 1, 0,\n",
       "       1, 0, 2, 1, 0, 2, 1, 2, 2, 1, 2, 0, 0, 1, 2, 0, 0, 0, 1, 1, 2, 1,\n",
       "       1, 1, 2, 1, 1, 2, 1, 1, 2, 0, 2, 1, 2, 2, 0, 3])"
      ]
     },
     "execution_count": 15,
     "metadata": {},
     "output_type": "execute_result"
    }
   ],
   "source": [
    "X.predict(X_test)"
   ]
  },
  {
   "cell_type": "code",
   "execution_count": 19,
   "metadata": {},
   "outputs": [
    {
     "data": {
      "text/plain": [
       "array([  2,   4,   2,   0,   3,   4,   1,   3,   1,   1,   0,   2,  10,\n",
       "        16,  19,  41, 126,  83,  24, 181,  41,   4,  69,  71,  21,  12,\n",
       "        84,   0,  21,  38,  13,  73,  12,  22,  30,  42,  20, 129,  99,\n",
       "        30,  88,  63,  29,  73,   0,   1,  20,  96,   6,  17,  23,   6,\n",
       "         6,  21,   3,  16,   3,   6,  17,   2,   4,   8,   5,   0,   6,\n",
       "         3,   0,   3,   1,   0,   1,   2,   0,   0,   2,   0,   1,   2,\n",
       "         0,   0,   1,   0,   0,   2,   0,   0,   1,   0,   1,   1])"
      ]
     },
     "execution_count": 19,
     "metadata": {},
     "output_type": "execute_result"
    }
   ],
   "source": [
    "X_test[0]"
   ]
  },
  {
   "cell_type": "code",
   "execution_count": null,
   "metadata": {},
   "outputs": [],
   "source": []
  }
 ],
 "metadata": {
  "kernelspec": {
   "display_name": "Python 3",
   "language": "python",
   "name": "python3"
  },
  "language_info": {
   "codemirror_mode": {
    "name": "ipython",
    "version": 3
   },
   "file_extension": ".py",
   "mimetype": "text/x-python",
   "name": "python",
   "nbconvert_exporter": "python",
   "pygments_lexer": "ipython3",
   "version": "3.7.7"
  }
 },
 "nbformat": 4,
 "nbformat_minor": 2
}

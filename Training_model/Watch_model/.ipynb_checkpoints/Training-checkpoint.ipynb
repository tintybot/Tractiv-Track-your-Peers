{
 "cells": [
  {
   "cell_type": "code",
   "execution_count": 9,
   "metadata": {},
   "outputs": [],
   "source": [
    "import pickle\n",
    "import numpy as np\n",
    "from sklearn.datasets.samples_generator import make_blobs\n",
    "from sklearn.model_selection import train_test_split\n",
    "from matplotlib import pyplot as plt\n",
    "from sklearn.metrics import confusion_matrix\n",
    "from sklearn.svm import SVC\n",
    "import seaborn as sns\n",
    "import matplotlib.pyplot as plt\n",
    "import random"
   ]
  },
  {
   "cell_type": "code",
   "execution_count": 10,
   "metadata": {},
   "outputs": [],
   "source": [
    "def load_dataset(filename):\n",
    "    pickle_in=open(filename,\"rb\")\n",
    "    Dataset=pickle.load(pickle_in)\n",
    "    pickle_in.close()\n",
    "    return Dataset\n",
    "def data_labels(Dataset):\n",
    "    X=[]\n",
    "    Y=[]\n",
    "    for val,lab in Dataset:\n",
    "        X.append(val)\n",
    "        Y.append(lab)\n",
    "    X=np.array(X).reshape(-1,90)\n",
    "    Y=np.array(Y)\n",
    "    return X,Y"
   ]
  },
  {
   "cell_type": "code",
   "execution_count": 11,
   "metadata": {},
   "outputs": [],
   "source": [
    "def train(filename):\n",
    "    Dataset=load_dataset(filename)\n",
    "    random.shuffle(Dataset)\n",
    "    X,Y=data_labels(Dataset)\n",
    "    X_train,X_test,Y_train,Y_test=train_test_split(X,Y,test_size=0.25)\n",
    "    svm_model_linear = SVC(kernel = 'linear', C = 1).fit(X_train, Y_train) \n",
    "    svm_predictions = svm_model_linear.predict(X_test) \n",
    "    accuracy = svm_model_linear.score(X_test, Y_test) \n",
    "    print(accuracy)\n",
    "    cm = confusion_matrix(Y_test, svm_predictions) \n",
    "    sns.heatmap(cm, annot=True)\n",
    "    plt.show()\n",
    "    return "
   ]
  },
  {
   "cell_type": "code",
   "execution_count": 16,
   "metadata": {},
   "outputs": [
    {
     "name": "stdout",
     "output_type": "stream",
     "text": [
      "0.9651162790697675\n"
     ]
    },
    {
     "data": {
      "image/png": "[encoded data removed]",
      "text/plain": [
       "<Figure size 432x288 with 2 Axes>"
      ]
     },
     "metadata": {
      "needs_background": "light"
     },
     "output_type": "display_data"
    }
   ],
   "source": [
    "model=train(\"Dataset.pickle\")\n",
    "modelname='model.pkl'\n",
    "with open (modelname,'wb') as file:\n",
    "    pickle.dump(model,file)"
   ]
  },
  {
   "cell_type": "code",
   "execution_count": null,
   "metadata": {},
   "outputs": [],
   "source": []
  },
  {
   "cell_type": "code",
   "execution_count": null,
   "metadata": {},
   "outputs": [],
   "source": []
  }
 ],
 "metadata": {
  "kernelspec": {
   "display_name": "Python 3",
   "language": "python",
   "name": "python3"
  },
  "language_info": {
   "codemirror_mode": {
    "name": "ipython",
    "version": 3
   },
   "file_extension": ".py",
   "mimetype": "text/x-python",
   "name": "python",
   "nbconvert_exporter": "python",
   "pygments_lexer": "ipython3",
   "version": "3.7.7"
  }
 },
 "nbformat": 4,
 "nbformat_minor": 2
}
